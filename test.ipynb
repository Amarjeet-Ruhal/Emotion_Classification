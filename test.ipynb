{
 "cells": [
  {
   "cell_type": "code",
   "execution_count": 318,
   "id": "8baf5b96",
   "metadata": {},
   "outputs": [],
   "source": [
    "# 1. Basic setup\n",
    "import os\n",
    "import librosa\n",
    "import numpy as np\n",
    "import pandas as pd\n",
    "import matplotlib.pyplot as plt\n",
    "from sklearn.model_selection import train_test_split\n",
    "from sklearn.preprocessing import LabelEncoder\n",
    "from tensorflow.keras.utils import to_categorical\n",
    "from tensorflow.keras.models import Sequential\n",
    "from tensorflow.keras.layers import Conv2D, MaxPooling2D, Flatten, Dense, Dropout\n",
    "from tensorflow.keras.optimizers import Adam\n",
    "from tqdm import tqdm\n",
    "import warnings\n",
    "warnings.filterwarnings(\"ignore\")"
   ]
  },
  {
   "cell_type": "code",
   "execution_count": 319,
   "id": "08802295",
   "metadata": {},
   "outputs": [
    {
     "name": "stdout",
     "output_type": "stream",
     "text": [
      "Total files loaded: 1012\n",
      "                                                path  emotion\n",
      "0  Audio_Song_Actors_01-24\\Actor_01\\03-02-01-01-0...  neutral\n",
      "1  Audio_Song_Actors_01-24\\Actor_01\\03-02-01-01-0...  neutral\n",
      "2  Audio_Song_Actors_01-24\\Actor_01\\03-02-01-01-0...  neutral\n",
      "3  Audio_Song_Actors_01-24\\Actor_01\\03-02-01-01-0...  neutral\n",
      "4  Audio_Song_Actors_01-24\\Actor_01\\03-02-02-01-0...     calm\n"
     ]
    }
   ],
   "source": [
    "def load_data_from_folders(paths):\n",
    "    emotion_map = {\n",
    "        '01': 'neutral', '02': 'calm', '03': 'happy', '04': 'sad',\n",
    "        '05': 'angry', '06': 'fearful', '07': 'disgust', '08': 'surprised'\n",
    "    }\n",
    "\n",
    "    def get_emotion(filename):\n",
    "        emotion_code = filename.split(\"-\")[2]\n",
    "        return emotion_map[emotion_code]\n",
    "\n",
    "    file_list = []\n",
    "    for path in paths:\n",
    "        for root, _, files in os.walk(path):\n",
    "            for file in files:\n",
    "                if file.endswith(\".wav\"):\n",
    "                    emotion = get_emotion(file)\n",
    "                    file_path = os.path.join(root, file)\n",
    "                    file_list.append((file_path, emotion))\n",
    "    return pd.DataFrame(file_list, columns=[\"path\", \"emotion\"])\n",
    "\n",
    "DATA_PATH_1 = \"Audio_Song_Actors_01-24\" \n",
    "# DATA_PATH_2 = \"Audio_Speech_Actors_01-24\"\n",
    "\n",
    "df = load_data_from_folders([DATA_PATH_1])\n",
    "print(\"Total files loaded:\", len(df))\n",
    "print(df.head())\n"
   ]
  },
  {
   "cell_type": "code",
   "execution_count": 320,
   "id": "d9c143bd",
   "metadata": {},
   "outputs": [
    {
     "data": {
      "text/plain": [
       "<Axes: xlabel='emotion'>"
      ]
     },
     "execution_count": 320,
     "metadata": {},
     "output_type": "execute_result"
    },
    {
     "data": {
      "image/png": "[encoded data removed]",
      "text/plain": [
       "<Figure size 640x480 with 1 Axes>"
      ]
     },
     "metadata": {},
     "output_type": "display_data"
    }
   ],
   "source": [
    "df['emotion'].value_counts().plot(kind='bar')\n"
   ]
  },
  {
   "cell_type": "code",
   "execution_count": 321,
   "id": "5eb286c3",
   "metadata": {},
   "outputs": [
    {
     "name": "stdout",
     "output_type": "stream",
     "text": [
      "Trying: Audio_Song_Actors_01-24\\Actor_01\\03-02-01-01-01-01-01.wav\n",
      "Duration (s): 4.237583333333333\n"
     ]
    }
   ],
   "source": [
    "import librosa\n",
    "\n",
    "test_path = df.iloc[0][\"path\"]\n",
    "print(\"Trying:\", test_path)\n",
    "\n",
    "# Try loading\n",
    "audio, sr = librosa.load(test_path, sr=None)\n",
    "print(\"Duration (s):\", len(audio) / sr)\n"
   ]
  },
  {
   "cell_type": "code",
   "execution_count": 322,
   "id": "139007ef",
   "metadata": {},
   "outputs": [
    {
     "name": "stdout",
     "output_type": "stream",
     "text": [
      "Audio shape: (203404,)\n",
      "Sample rate: 48000\n"
     ]
    }
   ],
   "source": [
    "import librosa\n",
    "\n",
    "test_path = df.iloc[0][\"path\"]\n",
    "test_path = os.path.normpath(test_path)  # normalize path in case of backslashes\n",
    "\n",
    "try:\n",
    "    audio, sr = librosa.load(test_path, sr=None)\n",
    "    print(\"Audio shape:\", audio.shape)\n",
    "    print(\"Sample rate:\", sr)\n",
    "except Exception as e:\n",
    "    print(\"Librosa failed:\", e)\n"
   ]
  },
  {
   "cell_type": "code",
   "execution_count": 323,
   "id": "49ce389b",
   "metadata": {},
   "outputs": [],
   "source": [
    "def extract_features(file_path, max_pad_len=174):\n",
    "    try:\n",
    "        audio, sample_rate = librosa.load(file_path, sr=22050)  # Resample\n",
    "        mfcc = librosa.feature.mfcc(y=audio, sr=sample_rate, n_mfcc=40)\n",
    "        \n",
    "        # Padding or truncating\n",
    "        if mfcc.shape[1] < max_pad_len:\n",
    "            pad_width = max_pad_len - mfcc.shape[1]\n",
    "            mfcc = np.pad(mfcc, pad_width=((0, 0), (0, pad_width)), mode='constant')\n",
    "        else:\n",
    "            mfcc = mfcc[:, :max_pad_len]\n",
    "        \n",
    "        return mfcc\n",
    "    except Exception as e:\n",
    "        print(f\"[ERROR] {file_path} => {e}\")\n",
    "        return None\n",
    "\n"
   ]
  },
  {
   "cell_type": "code",
   "execution_count": 324,
   "id": "2962a59c",
   "metadata": {},
   "outputs": [
    {
     "name": "stderr",
     "output_type": "stream",
     "text": [
      "  0%|          | 0/1012 [00:00<?, ?it/s]"
     ]
    },
    {
     "name": "stderr",
     "output_type": "stream",
     "text": [
      "100%|██████████| 1012/1012 [00:17<00:00, 58.98it/s]"
     ]
    },
    {
     "name": "stdout",
     "output_type": "stream",
     "text": [
      "Shape of X: (1012, 40, 174, 1)\n",
      "Sample label: neutral\n"
     ]
    },
    {
     "name": "stderr",
     "output_type": "stream",
     "text": [
      "\n"
     ]
    }
   ],
   "source": [
    "X = []\n",
    "y = []\n",
    "\n",
    "for index, row in tqdm(df.iterrows(), total=len(df)):\n",
    "    features = extract_features(row[\"path\"])\n",
    "    if features is not None:\n",
    "        X.append(features)\n",
    "        y.append(row[\"emotion\"])\n",
    "\n",
    "X = np.array(X)\n",
    "X = X[..., np.newaxis]\n",
    "print(\"Shape of X:\", X.shape)\n",
    "print(\"Sample label:\", y[0])\n",
    "\n",
    "\n"
   ]
  },
  {
   "cell_type": "code",
   "execution_count": 325,
   "id": "a8d4f092",
   "metadata": {},
   "outputs": [
    {
     "name": "stdout",
     "output_type": "stream",
     "text": [
      "Encoded labels: (1012, 6)\n"
     ]
    }
   ],
   "source": [
    "le = LabelEncoder()\n",
    "y_encoded = to_categorical(le.fit_transform(y))\n",
    "print(\"Encoded labels:\", y_encoded.shape)\n"
   ]
  },
  {
   "cell_type": "code",
   "execution_count": 326,
   "id": "b75033f1",
   "metadata": {},
   "outputs": [],
   "source": [
    "X_train, X_test, y_train, y_test = train_test_split(\n",
    "    X, y_encoded, test_size=0.2, random_state=42, stratify=y_encoded)\n"
   ]
  },
  {
   "cell_type": "code",
   "execution_count": 327,
   "id": "4ed674b1",
   "metadata": {},
   "outputs": [],
   "source": [
    "from tensorflow.keras.models import Sequential\n",
    "from tensorflow.keras.layers import Conv2D, MaxPooling2D, Dropout, Flatten, Dense\n",
    "\n",
    "model = Sequential()\n",
    "\n",
    "# Conv Layer 1\n",
    "model.add(Conv2D(32, kernel_size=(3, 3), activation='relu', input_shape=(40, 174, 1)))\n",
    "model.add(MaxPooling2D(pool_size=(2, 2)))\n",
    "model.add(Dropout(0.3))\n",
    "\n",
    "# Conv Layer 2\n",
    "model.add(Conv2D(64, kernel_size=(3, 3), activation='relu'))\n",
    "model.add(MaxPooling2D(pool_size=(2, 2)))\n",
    "model.add(Dropout(0.3))\n",
    "\n",
    "# Flatten and Dense\n",
    "model.add(Flatten())\n",
    "model.add(Dense(128, activation='relu'))\n",
    "model.add(Dropout(0.3))\n",
    "model.add(Dense(y_encoded.shape[1], activation='softmax'))  # num_classes output\n"
   ]
  },
  {
   "cell_type": "code",
   "execution_count": 328,
   "id": "2f7c6c4e",
   "metadata": {},
   "outputs": [
    {
     "name": "stdout",
     "output_type": "stream",
     "text": [
      "Epoch 1/50\n",
      "\u001b[1m26/26\u001b[0m \u001b[32m━━━━━━━━━━━━━━━━━━━━\u001b[0m\u001b[37m\u001b[0m \u001b[1m5s\u001b[0m 93ms/step - accuracy: 0.1903 - loss: 49.2583 - val_accuracy: 0.2167 - val_loss: 1.7897\n",
      "Epoch 2/50\n",
      "\u001b[1m26/26\u001b[0m \u001b[32m━━━━━━━━━━━━━━━━━━━━\u001b[0m\u001b[37m\u001b[0m \u001b[1m2s\u001b[0m 76ms/step - accuracy: 0.2210 - loss: 1.8323 - val_accuracy: 0.2315 - val_loss: 1.7606\n",
      "Epoch 3/50\n",
      "\u001b[1m26/26\u001b[0m \u001b[32m━━━━━━━━━━━━━━━━━━━━\u001b[0m\u001b[37m\u001b[0m \u001b[1m2s\u001b[0m 75ms/step - accuracy: 0.2407 - loss: 1.7370 - val_accuracy: 0.2808 - val_loss: 1.7016\n",
      "Epoch 4/50\n",
      "\u001b[1m26/26\u001b[0m \u001b[32m━━━━━━━━━━━━━━━━━━━━\u001b[0m\u001b[37m\u001b[0m \u001b[1m2s\u001b[0m 78ms/step - accuracy: 0.2926 - loss: 1.6829 - val_accuracy: 0.3793 - val_loss: 1.6330\n",
      "Epoch 5/50\n",
      "\u001b[1m26/26\u001b[0m \u001b[32m━━━━━━━━━━━━━━━━━━━━\u001b[0m\u001b[37m\u001b[0m \u001b[1m2s\u001b[0m 75ms/step - accuracy: 0.2907 - loss: 1.6796 - val_accuracy: 0.4138 - val_loss: 1.5227\n",
      "Epoch 6/50\n",
      "\u001b[1m26/26\u001b[0m \u001b[32m━━━━━━━━━━━━━━━━━━━━\u001b[0m\u001b[37m\u001b[0m \u001b[1m2s\u001b[0m 76ms/step - accuracy: 0.3772 - loss: 1.5194 - val_accuracy: 0.5369 - val_loss: 1.0750\n",
      "Epoch 7/50\n",
      "\u001b[1m26/26\u001b[0m \u001b[32m━━━━━━━━━━━━━━━━━━━━\u001b[0m\u001b[37m\u001b[0m \u001b[1m2s\u001b[0m 74ms/step - accuracy: 0.4981 - loss: 1.2024 - val_accuracy: 0.6207 - val_loss: 0.9199\n",
      "Epoch 8/50\n",
      "\u001b[1m26/26\u001b[0m \u001b[32m━━━━━━━━━━━━━━━━━━━━\u001b[0m\u001b[37m\u001b[0m \u001b[1m2s\u001b[0m 75ms/step - accuracy: 0.5956 - loss: 1.0398 - val_accuracy: 0.6158 - val_loss: 0.8400\n",
      "Epoch 9/50\n",
      "\u001b[1m26/26\u001b[0m \u001b[32m━━━━━━━━━━━━━━━━━━━━\u001b[0m\u001b[37m\u001b[0m \u001b[1m2s\u001b[0m 76ms/step - accuracy: 0.6388 - loss: 0.8682 - val_accuracy: 0.6847 - val_loss: 0.7705\n",
      "Epoch 10/50\n",
      "\u001b[1m26/26\u001b[0m \u001b[32m━━━━━━━━━━━━━━━━━━━━\u001b[0m\u001b[37m\u001b[0m \u001b[1m2s\u001b[0m 77ms/step - accuracy: 0.6673 - loss: 0.8276 - val_accuracy: 0.7094 - val_loss: 0.6765\n",
      "Epoch 11/50\n",
      "\u001b[1m26/26\u001b[0m \u001b[32m━━━━━━━━━━━━━━━━━━━━\u001b[0m\u001b[37m\u001b[0m \u001b[1m2s\u001b[0m 75ms/step - accuracy: 0.7017 - loss: 0.7293 - val_accuracy: 0.7586 - val_loss: 0.6346\n",
      "Epoch 12/50\n",
      "\u001b[1m26/26\u001b[0m \u001b[32m━━━━━━━━━━━━━━━━━━━━\u001b[0m\u001b[37m\u001b[0m \u001b[1m2s\u001b[0m 76ms/step - accuracy: 0.7566 - loss: 0.6131 - val_accuracy: 0.8177 - val_loss: 0.5627\n",
      "Epoch 13/50\n",
      "\u001b[1m26/26\u001b[0m \u001b[32m━━━━━━━━━━━━━━━━━━━━\u001b[0m\u001b[37m\u001b[0m \u001b[1m2s\u001b[0m 82ms/step - accuracy: 0.7671 - loss: 0.5840 - val_accuracy: 0.7586 - val_loss: 0.5506\n",
      "Epoch 14/50\n",
      "\u001b[1m26/26\u001b[0m \u001b[32m━━━━━━━━━━━━━━━━━━━━\u001b[0m\u001b[37m\u001b[0m \u001b[1m2s\u001b[0m 83ms/step - accuracy: 0.8071 - loss: 0.5168 - val_accuracy: 0.7685 - val_loss: 0.5730\n",
      "Epoch 15/50\n",
      "\u001b[1m26/26\u001b[0m \u001b[32m━━━━━━━━━━━━━━━━━━━━\u001b[0m\u001b[37m\u001b[0m \u001b[1m2s\u001b[0m 82ms/step - accuracy: 0.8447 - loss: 0.4178 - val_accuracy: 0.8030 - val_loss: 0.5540\n",
      "Epoch 16/50\n",
      "\u001b[1m26/26\u001b[0m \u001b[32m━━━━━━━━━━━━━━━━━━━━\u001b[0m\u001b[37m\u001b[0m \u001b[1m2s\u001b[0m 80ms/step - accuracy: 0.8052 - loss: 0.4740 - val_accuracy: 0.7980 - val_loss: 0.4821\n",
      "Epoch 17/50\n",
      "\u001b[1m26/26\u001b[0m \u001b[32m━━━━━━━━━━━━━━━━━━━━\u001b[0m\u001b[37m\u001b[0m \u001b[1m2s\u001b[0m 84ms/step - accuracy: 0.8587 - loss: 0.3862 - val_accuracy: 0.8030 - val_loss: 0.4894\n",
      "Epoch 18/50\n",
      "\u001b[1m26/26\u001b[0m \u001b[32m━━━━━━━━━━━━━━━━━━━━\u001b[0m\u001b[37m\u001b[0m \u001b[1m2s\u001b[0m 80ms/step - accuracy: 0.8404 - loss: 0.4013 - val_accuracy: 0.8424 - val_loss: 0.4309\n",
      "Epoch 19/50\n",
      "\u001b[1m26/26\u001b[0m \u001b[32m━━━━━━━━━━━━━━━━━━━━\u001b[0m\u001b[37m\u001b[0m \u001b[1m2s\u001b[0m 87ms/step - accuracy: 0.8723 - loss: 0.3150 - val_accuracy: 0.8227 - val_loss: 0.4876\n",
      "Epoch 20/50\n",
      "\u001b[1m26/26\u001b[0m \u001b[32m━━━━━━━━━━━━━━━━━━━━\u001b[0m\u001b[37m\u001b[0m \u001b[1m2s\u001b[0m 79ms/step - accuracy: 0.9015 - loss: 0.2553 - val_accuracy: 0.8030 - val_loss: 0.4580\n",
      "Epoch 21/50\n",
      "\u001b[1m26/26\u001b[0m \u001b[32m━━━━━━━━━━━━━━━━━━━━\u001b[0m\u001b[37m\u001b[0m \u001b[1m2s\u001b[0m 82ms/step - accuracy: 0.9164 - loss: 0.2200 - val_accuracy: 0.8670 - val_loss: 0.3736\n",
      "Epoch 22/50\n",
      "\u001b[1m26/26\u001b[0m \u001b[32m━━━━━━━━━━━━━━━━━━━━\u001b[0m\u001b[37m\u001b[0m \u001b[1m2s\u001b[0m 84ms/step - accuracy: 0.9095 - loss: 0.2244 - val_accuracy: 0.8768 - val_loss: 0.3630\n",
      "Epoch 23/50\n",
      "\u001b[1m26/26\u001b[0m \u001b[32m━━━━━━━━━━━━━━━━━━━━\u001b[0m\u001b[37m\u001b[0m \u001b[1m2s\u001b[0m 81ms/step - accuracy: 0.9147 - loss: 0.2446 - val_accuracy: 0.8522 - val_loss: 0.3844\n",
      "Epoch 24/50\n",
      "\u001b[1m26/26\u001b[0m \u001b[32m━━━━━━━━━━━━━━━━━━━━\u001b[0m\u001b[37m\u001b[0m \u001b[1m2s\u001b[0m 81ms/step - accuracy: 0.9233 - loss: 0.2125 - val_accuracy: 0.8276 - val_loss: 0.4139\n",
      "Epoch 25/50\n",
      "\u001b[1m26/26\u001b[0m \u001b[32m━━━━━━━━━━━━━━━━━━━━\u001b[0m\u001b[37m\u001b[0m \u001b[1m2s\u001b[0m 80ms/step - accuracy: 0.9202 - loss: 0.2243 - val_accuracy: 0.8325 - val_loss: 0.4287\n",
      "Epoch 26/50\n",
      "\u001b[1m26/26\u001b[0m \u001b[32m━━━━━━━━━━━━━━━━━━━━\u001b[0m\u001b[37m\u001b[0m \u001b[1m2s\u001b[0m 82ms/step - accuracy: 0.9340 - loss: 0.1676 - val_accuracy: 0.8128 - val_loss: 0.5192\n",
      "Epoch 27/50\n",
      "\u001b[1m26/26\u001b[0m \u001b[32m━━━━━━━━━━━━━━━━━━━━\u001b[0m\u001b[37m\u001b[0m \u001b[1m2s\u001b[0m 85ms/step - accuracy: 0.9240 - loss: 0.2037 - val_accuracy: 0.8276 - val_loss: 0.4155\n",
      "Epoch 28/50\n",
      "\u001b[1m26/26\u001b[0m \u001b[32m━━━━━━━━━━━━━━━━━━━━\u001b[0m\u001b[37m\u001b[0m \u001b[1m2s\u001b[0m 79ms/step - accuracy: 0.9318 - loss: 0.1758 - val_accuracy: 0.8276 - val_loss: 0.4659\n",
      "Epoch 29/50\n",
      "\u001b[1m26/26\u001b[0m \u001b[32m━━━━━━━━━━━━━━━━━━━━\u001b[0m\u001b[37m\u001b[0m \u001b[1m2s\u001b[0m 84ms/step - accuracy: 0.9435 - loss: 0.1570 - val_accuracy: 0.8522 - val_loss: 0.4348\n",
      "Epoch 30/50\n",
      "\u001b[1m26/26\u001b[0m \u001b[32m━━━━━━━━━━━━━━━━━━━━\u001b[0m\u001b[37m\u001b[0m \u001b[1m2s\u001b[0m 80ms/step - accuracy: 0.9444 - loss: 0.1449 - val_accuracy: 0.8867 - val_loss: 0.3878\n",
      "Epoch 31/50\n",
      "\u001b[1m26/26\u001b[0m \u001b[32m━━━━━━━━━━━━━━━━━━━━\u001b[0m\u001b[37m\u001b[0m \u001b[1m2s\u001b[0m 81ms/step - accuracy: 0.9448 - loss: 0.1397 - val_accuracy: 0.8522 - val_loss: 0.4141\n",
      "Epoch 32/50\n",
      "\u001b[1m26/26\u001b[0m \u001b[32m━━━━━━━━━━━━━━━━━━━━\u001b[0m\u001b[37m\u001b[0m \u001b[1m2s\u001b[0m 89ms/step - accuracy: 0.9363 - loss: 0.1540 - val_accuracy: 0.8374 - val_loss: 0.4337\n",
      "Epoch 33/50\n",
      "\u001b[1m26/26\u001b[0m \u001b[32m━━━━━━━━━━━━━━━━━━━━\u001b[0m\u001b[37m\u001b[0m \u001b[1m2s\u001b[0m 89ms/step - accuracy: 0.9581 - loss: 0.1230 - val_accuracy: 0.8818 - val_loss: 0.4376\n",
      "Epoch 34/50\n",
      "\u001b[1m26/26\u001b[0m \u001b[32m━━━━━━━━━━━━━━━━━━━━\u001b[0m\u001b[37m\u001b[0m \u001b[1m2s\u001b[0m 86ms/step - accuracy: 0.9539 - loss: 0.1058 - val_accuracy: 0.8768 - val_loss: 0.4797\n",
      "Epoch 35/50\n",
      "\u001b[1m26/26\u001b[0m \u001b[32m━━━━━━━━━━━━━━━━━━━━\u001b[0m\u001b[37m\u001b[0m \u001b[1m2s\u001b[0m 83ms/step - accuracy: 0.9509 - loss: 0.1387 - val_accuracy: 0.8670 - val_loss: 0.4399\n",
      "Epoch 36/50\n",
      "\u001b[1m26/26\u001b[0m \u001b[32m━━━━━━━━━━━━━━━━━━━━\u001b[0m\u001b[37m\u001b[0m \u001b[1m2s\u001b[0m 83ms/step - accuracy: 0.9605 - loss: 0.1338 - val_accuracy: 0.8818 - val_loss: 0.4255\n",
      "Epoch 37/50\n",
      "\u001b[1m26/26\u001b[0m \u001b[32m━━━━━━━━━━━━━━━━━━━━\u001b[0m\u001b[37m\u001b[0m \u001b[1m2s\u001b[0m 88ms/step - accuracy: 0.9520 - loss: 0.1161 - val_accuracy: 0.8719 - val_loss: 0.4683\n",
      "Epoch 38/50\n",
      "\u001b[1m26/26\u001b[0m \u001b[32m━━━━━━━━━━━━━━━━━━━━\u001b[0m\u001b[37m\u001b[0m \u001b[1m2s\u001b[0m 83ms/step - accuracy: 0.9765 - loss: 0.0682 - val_accuracy: 0.8522 - val_loss: 0.4825\n",
      "Epoch 39/50\n",
      "\u001b[1m26/26\u001b[0m \u001b[32m━━━━━━━━━━━━━━━━━━━━\u001b[0m\u001b[37m\u001b[0m \u001b[1m2s\u001b[0m 79ms/step - accuracy: 0.9574 - loss: 0.1002 - val_accuracy: 0.8621 - val_loss: 0.4860\n",
      "Epoch 40/50\n",
      "\u001b[1m26/26\u001b[0m \u001b[32m━━━━━━━━━━━━━━━━━━━━\u001b[0m\u001b[37m\u001b[0m \u001b[1m2s\u001b[0m 85ms/step - accuracy: 0.9759 - loss: 0.0805 - val_accuracy: 0.8571 - val_loss: 0.5158\n",
      "Epoch 41/50\n",
      "\u001b[1m26/26\u001b[0m \u001b[32m━━━━━━━━━━━━━━━━━━━━\u001b[0m\u001b[37m\u001b[0m \u001b[1m2s\u001b[0m 81ms/step - accuracy: 0.9652 - loss: 0.0820 - val_accuracy: 0.8621 - val_loss: 0.4535\n",
      "Epoch 42/50\n",
      "\u001b[1m26/26\u001b[0m \u001b[32m━━━━━━━━━━━━━━━━━━━━\u001b[0m\u001b[37m\u001b[0m \u001b[1m2s\u001b[0m 81ms/step - accuracy: 0.9660 - loss: 0.1006 - val_accuracy: 0.8424 - val_loss: 0.4442\n",
      "Epoch 43/50\n",
      "\u001b[1m26/26\u001b[0m \u001b[32m━━━━━━━━━━━━━━━━━━━━\u001b[0m\u001b[37m\u001b[0m \u001b[1m2s\u001b[0m 84ms/step - accuracy: 0.9707 - loss: 0.0927 - val_accuracy: 0.8424 - val_loss: 0.3999\n",
      "Epoch 44/50\n",
      "\u001b[1m26/26\u001b[0m \u001b[32m━━━━━━━━━━━━━━━━━━━━\u001b[0m\u001b[37m\u001b[0m \u001b[1m2s\u001b[0m 83ms/step - accuracy: 0.9711 - loss: 0.0962 - val_accuracy: 0.8571 - val_loss: 0.4146\n",
      "Epoch 45/50\n",
      "\u001b[1m26/26\u001b[0m \u001b[32m━━━━━━━━━━━━━━━━━━━━\u001b[0m\u001b[37m\u001b[0m \u001b[1m2s\u001b[0m 84ms/step - accuracy: 0.9772 - loss: 0.0695 - val_accuracy: 0.8325 - val_loss: 0.5361\n",
      "Epoch 46/50\n",
      "\u001b[1m26/26\u001b[0m \u001b[32m━━━━━━━━━━━━━━━━━━━━\u001b[0m\u001b[37m\u001b[0m \u001b[1m2s\u001b[0m 83ms/step - accuracy: 0.9772 - loss: 0.0617 - val_accuracy: 0.8473 - val_loss: 0.5352\n",
      "Epoch 47/50\n",
      "\u001b[1m26/26\u001b[0m \u001b[32m━━━━━━━━━━━━━━━━━━━━\u001b[0m\u001b[37m\u001b[0m \u001b[1m2s\u001b[0m 83ms/step - accuracy: 0.9843 - loss: 0.0539 - val_accuracy: 0.8473 - val_loss: 0.5860\n",
      "Epoch 48/50\n",
      "\u001b[1m26/26\u001b[0m \u001b[32m━━━━━━━━━━━━━━━━━━━━\u001b[0m\u001b[37m\u001b[0m \u001b[1m2s\u001b[0m 84ms/step - accuracy: 0.9685 - loss: 0.0888 - val_accuracy: 0.8473 - val_loss: 0.4828\n",
      "Epoch 49/50\n",
      "\u001b[1m26/26\u001b[0m \u001b[32m━━━━━━━━━━━━━━━━━━━━\u001b[0m\u001b[37m\u001b[0m \u001b[1m2s\u001b[0m 80ms/step - accuracy: 0.9664 - loss: 0.0834 - val_accuracy: 0.8473 - val_loss: 0.5206\n",
      "Epoch 50/50\n",
      "\u001b[1m26/26\u001b[0m \u001b[32m━━━━━━━━━━━━━━━━━━━━\u001b[0m\u001b[37m\u001b[0m \u001b[1m2s\u001b[0m 83ms/step - accuracy: 0.9772 - loss: 0.0646 - val_accuracy: 0.8768 - val_loss: 0.6201\n"
     ]
    }
   ],
   "source": [
    "model.compile(\n",
    "    optimizer=Adam(learning_rate=0.001),\n",
    "    loss='categorical_crossentropy',\n",
    "    metrics=['accuracy']\n",
    ")\n",
    "\n",
    "history = model.fit(\n",
    "    X_train, y_train,\n",
    "    batch_size=32,\n",
    "    epochs=50,\n",
    "    validation_data=(X_test, y_test)\n",
    ")\n"
   ]
  },
  {
   "cell_type": "code",
   "execution_count": 329,
   "id": "dbcbea39",
   "metadata": {},
   "outputs": [
    {
     "name": "stdout",
     "output_type": "stream",
     "text": [
      "\u001b[1m7/7\u001b[0m \u001b[32m━━━━━━━━━━━━━━━━━━━━\u001b[0m\u001b[37m\u001b[0m \u001b[1m0s\u001b[0m 29ms/step\n",
      "              precision    recall  f1-score   support\n",
      "\n",
      "       angry       0.90      0.95      0.92        37\n",
      "        calm       0.97      0.89      0.93        37\n",
      "     fearful       0.79      0.70      0.74        37\n",
      "       happy       0.89      0.89      0.89        37\n",
      "     neutral       0.95      1.00      0.97        18\n",
      "         sad       0.80      0.89      0.85        37\n",
      "\n",
      "    accuracy                           0.88       203\n",
      "   macro avg       0.88      0.89      0.88       203\n",
      "weighted avg       0.88      0.88      0.88       203\n",
      "\n"
     ]
    },
    {
     "data": {
      "image/png": "[encoded data removed]",
      "text/plain": [
       "<Figure size 1000x800 with 2 Axes>"
      ]
     },
     "metadata": {},
     "output_type": "display_data"
    }
   ],
   "source": [
    "from sklearn.metrics import classification_report, confusion_matrix\n",
    "import seaborn as sns\n",
    "\n",
    "# Predictions\n",
    "y_pred = model.predict(X_test)\n",
    "y_test_labels = np.argmax(y_test, axis=1)\n",
    "y_pred_labels = np.argmax(y_pred, axis=1)\n",
    "\n",
    "# Print classification report\n",
    "print(classification_report(y_test_labels, y_pred_labels, target_names=le.classes_))\n",
    "\n",
    "# Confusion matrix\n",
    "cm = confusion_matrix(y_test_labels, y_pred_labels)\n",
    "plt.figure(figsize=(10, 8))\n",
    "sns.heatmap(cm, annot=True, fmt='d', xticklabels=le.classes_, yticklabels=le.classes_, cmap=\"Blues\")\n",
    "plt.title(\"Confusion Matrix\")\n",
    "plt.ylabel(\"True Label\")\n",
    "plt.xlabel(\"Predicted Label\")\n",
    "plt.show()\n"
   ]
  },
  {
   "cell_type": "code",
   "execution_count": 330,
   "id": "445b3cb9",
   "metadata": {},
   "outputs": [],
   "source": [
    "# import joblib\n",
    "# model.save('my_model.keras')\n",
    "# joblib.dump(le, \"label_encoder.pkl\")\n"
   ]
  },
  {
   "cell_type": "code",
   "execution_count": 331,
   "id": "82cee973",
   "metadata": {},
   "outputs": [],
   "source": [
    "def get_type_from_filename(filename):\n",
    "    vocal_channel = filename.split(\"-\")[2]\n",
    "    return vocal_channel"
   ]
  },
  {
   "cell_type": "code",
   "execution_count": 332,
   "id": "f53a8258",
   "metadata": {},
   "outputs": [
    {
     "name": "stdout",
     "output_type": "stream",
     "text": [
      "File type: 02\n"
     ]
    }
   ],
   "source": [
    "import joblib\n",
    "file_type = get_type_from_filename(df.iloc[0][\"path\"])\n",
    "print(\"File type:\", file_type)\n",
    "\n",
    "if file_type == \"01\":\n",
    "    model.save(\"model/speech_model/emotion_model_speech.keras\")\n",
    "    joblib.dump(le, \"model/speech_model/label_encoder_speech.pkl\")\n",
    "else:\n",
    "    model.save(\"model/song_model/emotion_model_song.keras\")\n",
    "    joblib.dump(le, \"model/song_model/label_encoder_song.pkl\")\n"
   ]
  }
 ],
 "metadata": {
  "kernelspec": {
   "display_name": ".venv",
   "language": "python",
   "name": "python3"
  },
  "language_info": {
   "codemirror_mode": {
    "name": "ipython",
    "version": 3
   },
   "file_extension": ".py",
   "mimetype": "text/x-python",
   "name": "python",
   "nbconvert_exporter": "python",
   "pygments_lexer": "ipython3",
   "version": "3.12.2"
  }
 },
 "nbformat": 4,
 "nbformat_minor": 5
}
