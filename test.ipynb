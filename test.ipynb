{
 "cells": [
  {
   "cell_type": "code",
   "execution_count": 277,
   "id": "8baf5b96",
   "metadata": {},
   "outputs": [],
   "source": [
    "# 1. Basic setup\n",
    "import os\n",
    "import librosa\n",
    "import numpy as np\n",
    "import pandas as pd\n",
    "import matplotlib.pyplot as plt\n",
    "from sklearn.model_selection import train_test_split\n",
    "from sklearn.preprocessing import LabelEncoder\n",
    "from tensorflow.keras.utils import to_categorical\n",
    "from tensorflow.keras.models import Sequential\n",
    "from tensorflow.keras.layers import Conv2D, MaxPooling2D, Flatten, Dense, Dropout\n",
    "from tensorflow.keras.optimizers import Adam\n",
    "from tqdm import tqdm\n",
    "import warnings\n",
    "warnings.filterwarnings(\"ignore\")"
   ]
  },
  {
   "cell_type": "code",
   "execution_count": 278,
   "id": "08802295",
   "metadata": {},
   "outputs": [
    {
     "name": "stdout",
     "output_type": "stream",
     "text": [
      "Total files loaded: 1012\n",
      "                                                path  emotion\n",
      "0  Audio_Song_Actors_01-24\\Actor_01\\03-02-01-01-0...  neutral\n",
      "1  Audio_Song_Actors_01-24\\Actor_01\\03-02-01-01-0...  neutral\n",
      "2  Audio_Song_Actors_01-24\\Actor_01\\03-02-01-01-0...  neutral\n",
      "3  Audio_Song_Actors_01-24\\Actor_01\\03-02-01-01-0...  neutral\n",
      "4  Audio_Song_Actors_01-24\\Actor_01\\03-02-02-01-0...     calm\n"
     ]
    }
   ],
   "source": [
    "def load_data_from_folders(paths):\n",
    "    emotion_map = {\n",
    "        '01': 'neutral', '02': 'calm', '03': 'happy', '04': 'sad',\n",
    "        '05': 'angry', '06': 'fearful', '07': 'disgust', '08': 'surprised'\n",
    "    }\n",
    "\n",
    "    def get_emotion(filename):\n",
    "        emotion_code = filename.split(\"-\")[2]\n",
    "        return emotion_map[emotion_code]\n",
    "\n",
    "    file_list = []\n",
    "    for path in paths:\n",
    "        for root, _, files in os.walk(path):\n",
    "            for file in files:\n",
    "                if file.endswith(\".wav\"):\n",
    "                    emotion = get_emotion(file)\n",
    "                    file_path = os.path.join(root, file)\n",
    "                    file_list.append((file_path, emotion))\n",
    "    return pd.DataFrame(file_list, columns=[\"path\", \"emotion\"])\n",
    "\n",
    "DATA_PATH_1 = \"Audio_Song_Actors_01-24\" \n",
    "# DATA_PATH_2 = \"Audio_Speech_Actors_01-24\"\n",
    "\n",
    "df = load_data_from_folders([DATA_PATH_1])\n",
    "print(\"Total files loaded:\", len(df))\n",
    "print(df.head())\n"
   ]
  },
  {
   "cell_type": "code",
   "execution_count": 279,
   "id": "d9c143bd",
   "metadata": {},
   "outputs": [
    {
     "data": {
      "text/plain": [
       "<Axes: xlabel='emotion'>"
      ]
     },
     "execution_count": 279,
     "metadata": {},
     "output_type": "execute_result"
    },
    {
     "data": {
      "image/png": "[encoded data removed]",
      "text/plain": [
       "<Figure size 640x480 with 1 Axes>"
      ]
     },
     "metadata": {},
     "output_type": "display_data"
    }
   ],
   "source": [
    "df['emotion'].value_counts().plot(kind='bar')\n"
   ]
  },
  {
   "cell_type": "code",
   "execution_count": 280,
   "id": "5eb286c3",
   "metadata": {},
   "outputs": [
    {
     "name": "stdout",
     "output_type": "stream",
     "text": [
      "Trying: Audio_Song_Actors_01-24\\Actor_01\\03-02-01-01-01-01-01.wav\n",
      "Duration (s): 4.237583333333333\n"
     ]
    }
   ],
   "source": [
    "import librosa\n",
    "\n",
    "test_path = df.iloc[0][\"path\"]\n",
    "print(\"Trying:\", test_path)\n",
    "\n",
    "# Try loading\n",
    "audio, sr = librosa.load(test_path, sr=None)\n",
    "print(\"Duration (s):\", len(audio) / sr)\n"
   ]
  },
  {
   "cell_type": "code",
   "execution_count": 281,
   "id": "139007ef",
   "metadata": {},
   "outputs": [
    {
     "name": "stdout",
     "output_type": "stream",
     "text": [
      "Audio shape: (203404,)\n",
      "Sample rate: 48000\n"
     ]
    }
   ],
   "source": [
    "import librosa\n",
    "\n",
    "test_path = df.iloc[0][\"path\"]\n",
    "test_path = os.path.normpath(test_path)  # normalize path in case of backslashes\n",
    "\n",
    "try:\n",
    "    audio, sr = librosa.load(test_path, sr=None)\n",
    "    print(\"Audio shape:\", audio.shape)\n",
    "    print(\"Sample rate:\", sr)\n",
    "except Exception as e:\n",
    "    print(\"Librosa failed:\", e)\n"
   ]
  },
  {
   "cell_type": "code",
   "execution_count": 282,
   "id": "49ce389b",
   "metadata": {},
   "outputs": [],
   "source": [
    "def extract_features(file_path, max_pad_len=174):\n",
    "    try:\n",
    "        audio, sample_rate = librosa.load(file_path, sr=22050)  # Resample\n",
    "        mfcc = librosa.feature.mfcc(y=audio, sr=sample_rate, n_mfcc=40)\n",
    "        \n",
    "        # Padding or truncating\n",
    "        if mfcc.shape[1] < max_pad_len:\n",
    "            pad_width = max_pad_len - mfcc.shape[1]\n",
    "            mfcc = np.pad(mfcc, pad_width=((0, 0), (0, pad_width)), mode='constant')\n",
    "        else:\n",
    "            mfcc = mfcc[:, :max_pad_len]\n",
    "        \n",
    "        return mfcc\n",
    "    except Exception as e:\n",
    "        print(f\"[ERROR] {file_path} => {e}\")\n",
    "        return None\n",
    "\n"
   ]
  },
  {
   "cell_type": "code",
   "execution_count": 283,
   "id": "2962a59c",
   "metadata": {},
   "outputs": [
    {
     "name": "stderr",
     "output_type": "stream",
     "text": [
      "100%|██████████| 1012/1012 [00:19<00:00, 50.65it/s]"
     ]
    },
    {
     "name": "stdout",
     "output_type": "stream",
     "text": [
      "Shape of X: (1012, 40, 174, 1)\n",
      "Sample label: neutral\n"
     ]
    },
    {
     "name": "stderr",
     "output_type": "stream",
     "text": [
      "\n"
     ]
    }
   ],
   "source": [
    "X = []\n",
    "y = []\n",
    "\n",
    "for index, row in tqdm(df.iterrows(), total=len(df)):\n",
    "    features = extract_features(row[\"path\"])\n",
    "    if features is not None:\n",
    "        X.append(features)\n",
    "        y.append(row[\"emotion\"])\n",
    "\n",
    "X = np.array(X)\n",
    "X = X[..., np.newaxis]\n",
    "print(\"Shape of X:\", X.shape)\n",
    "print(\"Sample label:\", y[0])\n",
    "\n",
    "\n"
   ]
  },
  {
   "cell_type": "code",
   "execution_count": 284,
   "id": "a8d4f092",
   "metadata": {},
   "outputs": [
    {
     "name": "stdout",
     "output_type": "stream",
     "text": [
      "Encoded labels: (1012, 6)\n"
     ]
    }
   ],
   "source": [
    "le = LabelEncoder()\n",
    "y_encoded = to_categorical(le.fit_transform(y))\n",
    "print(\"Encoded labels:\", y_encoded.shape)\n"
   ]
  },
  {
   "cell_type": "code",
   "execution_count": 285,
   "id": "b75033f1",
   "metadata": {},
   "outputs": [],
   "source": [
    "X_train, X_test, y_train, y_test = train_test_split(\n",
    "    X, y_encoded, test_size=0.2, random_state=42, stratify=y_encoded)\n"
   ]
  },
  {
   "cell_type": "code",
   "execution_count": 286,
   "id": "4ed674b1",
   "metadata": {},
   "outputs": [],
   "source": [
    "from tensorflow.keras.models import Sequential\n",
    "from tensorflow.keras.layers import Conv2D, MaxPooling2D, Dropout, Flatten, Dense\n",
    "\n",
    "model = Sequential()\n",
    "\n",
    "# Conv Layer 1\n",
    "model.add(Conv2D(32, kernel_size=(3, 3), activation='relu', input_shape=(40, 174, 1)))\n",
    "model.add(MaxPooling2D(pool_size=(2, 2)))\n",
    "model.add(Dropout(0.3))\n",
    "\n",
    "# Conv Layer 2\n",
    "model.add(Conv2D(64, kernel_size=(3, 3), activation='relu'))\n",
    "model.add(MaxPooling2D(pool_size=(2, 2)))\n",
    "model.add(Dropout(0.3))\n",
    "\n",
    "# Flatten and Dense\n",
    "model.add(Flatten())\n",
    "model.add(Dense(128, activation='relu'))\n",
    "model.add(Dropout(0.3))\n",
    "model.add(Dense(y_encoded.shape[1], activation='softmax'))  # num_classes output\n"
   ]
  },
  {
   "cell_type": "code",
   "execution_count": 287,
   "id": "2f7c6c4e",
   "metadata": {},
   "outputs": [
    {
     "name": "stdout",
     "output_type": "stream",
     "text": [
      "Epoch 1/50\n",
      "\u001b[1m26/26\u001b[0m \u001b[32m━━━━━━━━━━━━━━━━━━━━\u001b[0m\u001b[37m\u001b[0m \u001b[1m4s\u001b[0m 109ms/step - accuracy: 0.1868 - loss: 46.8305 - val_accuracy: 0.1921 - val_loss: 1.7899\n",
      "Epoch 2/50\n",
      "\u001b[1m26/26\u001b[0m \u001b[32m━━━━━━━━━━━━━━━━━━━━\u001b[0m\u001b[37m\u001b[0m \u001b[1m2s\u001b[0m 84ms/step - accuracy: 0.1970 - loss: 1.8065 - val_accuracy: 0.1773 - val_loss: 1.7870\n",
      "Epoch 3/50\n",
      "\u001b[1m26/26\u001b[0m \u001b[32m━━━━━━━━━━━━━━━━━━━━\u001b[0m\u001b[37m\u001b[0m \u001b[1m2s\u001b[0m 75ms/step - accuracy: 0.2086 - loss: 1.8149 - val_accuracy: 0.1970 - val_loss: 1.7871\n",
      "Epoch 4/50\n",
      "\u001b[1m26/26\u001b[0m \u001b[32m━━━━━━━━━━━━━━━━━━━━\u001b[0m\u001b[37m\u001b[0m \u001b[1m2s\u001b[0m 77ms/step - accuracy: 0.1552 - loss: 1.8065 - val_accuracy: 0.2512 - val_loss: 1.7757\n",
      "Epoch 5/50\n",
      "\u001b[1m26/26\u001b[0m \u001b[32m━━━━━━━━━━━━━━━━━━━━\u001b[0m\u001b[37m\u001b[0m \u001b[1m2s\u001b[0m 79ms/step - accuracy: 0.2615 - loss: 1.7361 - val_accuracy: 0.3547 - val_loss: 1.6400\n",
      "Epoch 6/50\n",
      "\u001b[1m26/26\u001b[0m \u001b[32m━━━━━━━━━━━━━━━━━━━━\u001b[0m\u001b[37m\u001b[0m \u001b[1m2s\u001b[0m 79ms/step - accuracy: 0.3223 - loss: 1.6103 - val_accuracy: 0.4975 - val_loss: 1.2511\n",
      "Epoch 7/50\n",
      "\u001b[1m26/26\u001b[0m \u001b[32m━━━━━━━━━━━━━━━━━━━━\u001b[0m\u001b[37m\u001b[0m \u001b[1m2s\u001b[0m 76ms/step - accuracy: 0.4792 - loss: 1.3193 - val_accuracy: 0.6305 - val_loss: 0.9876\n",
      "Epoch 8/50\n",
      "\u001b[1m26/26\u001b[0m \u001b[32m━━━━━━━━━━━━━━━━━━━━\u001b[0m\u001b[37m\u001b[0m \u001b[1m2s\u001b[0m 81ms/step - accuracy: 0.5136 - loss: 1.1371 - val_accuracy: 0.6749 - val_loss: 0.8250\n",
      "Epoch 9/50\n",
      "\u001b[1m26/26\u001b[0m \u001b[32m━━━━━━━━━━━━━━━━━━━━\u001b[0m\u001b[37m\u001b[0m \u001b[1m2s\u001b[0m 77ms/step - accuracy: 0.6093 - loss: 0.9642 - val_accuracy: 0.6502 - val_loss: 0.8457\n",
      "Epoch 10/50\n",
      "\u001b[1m26/26\u001b[0m \u001b[32m━━━━━━━━━━━━━━━━━━━━\u001b[0m\u001b[37m\u001b[0m \u001b[1m2s\u001b[0m 75ms/step - accuracy: 0.6167 - loss: 0.9198 - val_accuracy: 0.6897 - val_loss: 0.7158\n",
      "Epoch 11/50\n",
      "\u001b[1m26/26\u001b[0m \u001b[32m━━━━━━━━━━━━━━━━━━━━\u001b[0m\u001b[37m\u001b[0m \u001b[1m2s\u001b[0m 76ms/step - accuracy: 0.6826 - loss: 0.7610 - val_accuracy: 0.7094 - val_loss: 0.7176\n",
      "Epoch 12/50\n",
      "\u001b[1m26/26\u001b[0m \u001b[32m━━━━━━━━━━━━━━━━━━━━\u001b[0m\u001b[37m\u001b[0m \u001b[1m2s\u001b[0m 76ms/step - accuracy: 0.7057 - loss: 0.7517 - val_accuracy: 0.7241 - val_loss: 0.6342\n",
      "Epoch 13/50\n",
      "\u001b[1m26/26\u001b[0m \u001b[32m━━━━━━━━━━━━━━━━━━━━\u001b[0m\u001b[37m\u001b[0m \u001b[1m2s\u001b[0m 76ms/step - accuracy: 0.7420 - loss: 0.6307 - val_accuracy: 0.7931 - val_loss: 0.5910\n",
      "Epoch 14/50\n",
      "\u001b[1m26/26\u001b[0m \u001b[32m━━━━━━━━━━━━━━━━━━━━\u001b[0m\u001b[37m\u001b[0m \u001b[1m2s\u001b[0m 76ms/step - accuracy: 0.7537 - loss: 0.5702 - val_accuracy: 0.7537 - val_loss: 0.5848\n",
      "Epoch 15/50\n",
      "\u001b[1m26/26\u001b[0m \u001b[32m━━━━━━━━━━━━━━━━━━━━\u001b[0m\u001b[37m\u001b[0m \u001b[1m2s\u001b[0m 77ms/step - accuracy: 0.7899 - loss: 0.5389 - val_accuracy: 0.8522 - val_loss: 0.4883\n",
      "Epoch 16/50\n",
      "\u001b[1m26/26\u001b[0m \u001b[32m━━━━━━━━━━━━━━━━━━━━\u001b[0m\u001b[37m\u001b[0m \u001b[1m2s\u001b[0m 86ms/step - accuracy: 0.7715 - loss: 0.5123 - val_accuracy: 0.8227 - val_loss: 0.5283\n",
      "Epoch 17/50\n",
      "\u001b[1m26/26\u001b[0m \u001b[32m━━━━━━━━━━━━━━━━━━━━\u001b[0m\u001b[37m\u001b[0m \u001b[1m2s\u001b[0m 80ms/step - accuracy: 0.8370 - loss: 0.4271 - val_accuracy: 0.8227 - val_loss: 0.4897\n",
      "Epoch 18/50\n",
      "\u001b[1m26/26\u001b[0m \u001b[32m━━━━━━━━━━━━━━━━━━━━\u001b[0m\u001b[37m\u001b[0m \u001b[1m2s\u001b[0m 78ms/step - accuracy: 0.8511 - loss: 0.3855 - val_accuracy: 0.8424 - val_loss: 0.4642\n",
      "Epoch 19/50\n",
      "\u001b[1m26/26\u001b[0m \u001b[32m━━━━━━━━━━━━━━━━━━━━\u001b[0m\u001b[37m\u001b[0m \u001b[1m2s\u001b[0m 75ms/step - accuracy: 0.8290 - loss: 0.3815 - val_accuracy: 0.8522 - val_loss: 0.4415\n",
      "Epoch 20/50\n",
      "\u001b[1m26/26\u001b[0m \u001b[32m━━━━━━━━━━━━━━━━━━━━\u001b[0m\u001b[37m\u001b[0m \u001b[1m2s\u001b[0m 76ms/step - accuracy: 0.8731 - loss: 0.3571 - val_accuracy: 0.8374 - val_loss: 0.4383\n",
      "Epoch 21/50\n",
      "\u001b[1m26/26\u001b[0m \u001b[32m━━━━━━━━━━━━━━━━━━━━\u001b[0m\u001b[37m\u001b[0m \u001b[1m2s\u001b[0m 81ms/step - accuracy: 0.8710 - loss: 0.3315 - val_accuracy: 0.8473 - val_loss: 0.4669\n",
      "Epoch 22/50\n",
      "\u001b[1m26/26\u001b[0m \u001b[32m━━━━━━━━━━━━━━━━━━━━\u001b[0m\u001b[37m\u001b[0m \u001b[1m2s\u001b[0m 85ms/step - accuracy: 0.9012 - loss: 0.2590 - val_accuracy: 0.8424 - val_loss: 0.4186\n",
      "Epoch 23/50\n",
      "\u001b[1m26/26\u001b[0m \u001b[32m━━━━━━━━━━━━━━━━━━━━\u001b[0m\u001b[37m\u001b[0m \u001b[1m2s\u001b[0m 82ms/step - accuracy: 0.9009 - loss: 0.2195 - val_accuracy: 0.8768 - val_loss: 0.3961\n",
      "Epoch 24/50\n",
      "\u001b[1m26/26\u001b[0m \u001b[32m━━━━━━━━━━━━━━━━━━━━\u001b[0m\u001b[37m\u001b[0m \u001b[1m2s\u001b[0m 80ms/step - accuracy: 0.9118 - loss: 0.2454 - val_accuracy: 0.8768 - val_loss: 0.4349\n",
      "Epoch 25/50\n",
      "\u001b[1m26/26\u001b[0m \u001b[32m━━━━━━━━━━━━━━━━━━━━\u001b[0m\u001b[37m\u001b[0m \u001b[1m2s\u001b[0m 77ms/step - accuracy: 0.9382 - loss: 0.1844 - val_accuracy: 0.8867 - val_loss: 0.3905\n",
      "Epoch 26/50\n",
      "\u001b[1m26/26\u001b[0m \u001b[32m━━━━━━━━━━━━━━━━━━━━\u001b[0m\u001b[37m\u001b[0m \u001b[1m2s\u001b[0m 81ms/step - accuracy: 0.9317 - loss: 0.2080 - val_accuracy: 0.9015 - val_loss: 0.3678\n",
      "Epoch 27/50\n",
      "\u001b[1m26/26\u001b[0m \u001b[32m━━━━━━━━━━━━━━━━━━━━\u001b[0m\u001b[37m\u001b[0m \u001b[1m2s\u001b[0m 77ms/step - accuracy: 0.9102 - loss: 0.2121 - val_accuracy: 0.8867 - val_loss: 0.3921\n",
      "Epoch 28/50\n",
      "\u001b[1m26/26\u001b[0m \u001b[32m━━━━━━━━━━━━━━━━━━━━\u001b[0m\u001b[37m\u001b[0m \u001b[1m2s\u001b[0m 83ms/step - accuracy: 0.9436 - loss: 0.1475 - val_accuracy: 0.8670 - val_loss: 0.4103\n",
      "Epoch 29/50\n",
      "\u001b[1m26/26\u001b[0m \u001b[32m━━━━━━━━━━━━━━━━━━━━\u001b[0m\u001b[37m\u001b[0m \u001b[1m2s\u001b[0m 77ms/step - accuracy: 0.9285 - loss: 0.1974 - val_accuracy: 0.8966 - val_loss: 0.3947\n",
      "Epoch 30/50\n",
      "\u001b[1m26/26\u001b[0m \u001b[32m━━━━━━━━━━━━━━━━━━━━\u001b[0m\u001b[37m\u001b[0m \u001b[1m2s\u001b[0m 79ms/step - accuracy: 0.9032 - loss: 0.2268 - val_accuracy: 0.8768 - val_loss: 0.4606\n",
      "Epoch 31/50\n",
      "\u001b[1m26/26\u001b[0m \u001b[32m━━━━━━━━━━━━━━━━━━━━\u001b[0m\u001b[37m\u001b[0m \u001b[1m2s\u001b[0m 78ms/step - accuracy: 0.9280 - loss: 0.1987 - val_accuracy: 0.8916 - val_loss: 0.3695\n",
      "Epoch 32/50\n",
      "\u001b[1m26/26\u001b[0m \u001b[32m━━━━━━━━━━━━━━━━━━━━\u001b[0m\u001b[37m\u001b[0m \u001b[1m2s\u001b[0m 78ms/step - accuracy: 0.9500 - loss: 0.1533 - val_accuracy: 0.8867 - val_loss: 0.4099\n",
      "Epoch 33/50\n",
      "\u001b[1m26/26\u001b[0m \u001b[32m━━━━━━━━━━━━━━━━━━━━\u001b[0m\u001b[37m\u001b[0m \u001b[1m2s\u001b[0m 80ms/step - accuracy: 0.9541 - loss: 0.1401 - val_accuracy: 0.9015 - val_loss: 0.3848\n",
      "Epoch 34/50\n",
      "\u001b[1m26/26\u001b[0m \u001b[32m━━━━━━━━━━━━━━━━━━━━\u001b[0m\u001b[37m\u001b[0m \u001b[1m2s\u001b[0m 94ms/step - accuracy: 0.9237 - loss: 0.2115 - val_accuracy: 0.9163 - val_loss: 0.3330\n",
      "Epoch 35/50\n",
      "\u001b[1m26/26\u001b[0m \u001b[32m━━━━━━━━━━━━━━━━━━━━\u001b[0m\u001b[37m\u001b[0m \u001b[1m2s\u001b[0m 89ms/step - accuracy: 0.9455 - loss: 0.1367 - val_accuracy: 0.8966 - val_loss: 0.3499\n",
      "Epoch 36/50\n",
      "\u001b[1m26/26\u001b[0m \u001b[32m━━━━━━━━━━━━━━━━━━━━\u001b[0m\u001b[37m\u001b[0m \u001b[1m2s\u001b[0m 80ms/step - accuracy: 0.9673 - loss: 0.1129 - val_accuracy: 0.9064 - val_loss: 0.3887\n",
      "Epoch 37/50\n",
      "\u001b[1m26/26\u001b[0m \u001b[32m━━━━━━━━━━━━━━━━━━━━\u001b[0m\u001b[37m\u001b[0m \u001b[1m2s\u001b[0m 81ms/step - accuracy: 0.9355 - loss: 0.1615 - val_accuracy: 0.8818 - val_loss: 0.4319\n",
      "Epoch 38/50\n",
      "\u001b[1m26/26\u001b[0m \u001b[32m━━━━━━━━━━━━━━━━━━━━\u001b[0m\u001b[37m\u001b[0m \u001b[1m2s\u001b[0m 80ms/step - accuracy: 0.9479 - loss: 0.1672 - val_accuracy: 0.8670 - val_loss: 0.4146\n",
      "Epoch 39/50\n",
      "\u001b[1m26/26\u001b[0m \u001b[32m━━━━━━━━━━━━━━━━━━━━\u001b[0m\u001b[37m\u001b[0m \u001b[1m2s\u001b[0m 81ms/step - accuracy: 0.9519 - loss: 0.1355 - val_accuracy: 0.9113 - val_loss: 0.3776\n",
      "Epoch 40/50\n",
      "\u001b[1m26/26\u001b[0m \u001b[32m━━━━━━━━━━━━━━━━━━━━\u001b[0m\u001b[37m\u001b[0m \u001b[1m2s\u001b[0m 82ms/step - accuracy: 0.9493 - loss: 0.1307 - val_accuracy: 0.8867 - val_loss: 0.4214\n",
      "Epoch 41/50\n",
      "\u001b[1m26/26\u001b[0m \u001b[32m━━━━━━━━━━━━━━━━━━━━\u001b[0m\u001b[37m\u001b[0m \u001b[1m2s\u001b[0m 80ms/step - accuracy: 0.9649 - loss: 0.1007 - val_accuracy: 0.9064 - val_loss: 0.3769\n",
      "Epoch 42/50\n",
      "\u001b[1m26/26\u001b[0m \u001b[32m━━━━━━━━━━━━━━━━━━━━\u001b[0m\u001b[37m\u001b[0m \u001b[1m2s\u001b[0m 85ms/step - accuracy: 0.9520 - loss: 0.1260 - val_accuracy: 0.8966 - val_loss: 0.3552\n",
      "Epoch 43/50\n",
      "\u001b[1m26/26\u001b[0m \u001b[32m━━━━━━━━━━━━━━━━━━━━\u001b[0m\u001b[37m\u001b[0m \u001b[1m2s\u001b[0m 91ms/step - accuracy: 0.9285 - loss: 0.1659 - val_accuracy: 0.9113 - val_loss: 0.3723\n",
      "Epoch 44/50\n",
      "\u001b[1m26/26\u001b[0m \u001b[32m━━━━━━━━━━━━━━━━━━━━\u001b[0m\u001b[37m\u001b[0m \u001b[1m2s\u001b[0m 90ms/step - accuracy: 0.9726 - loss: 0.0771 - val_accuracy: 0.8818 - val_loss: 0.4279\n",
      "Epoch 45/50\n",
      "\u001b[1m26/26\u001b[0m \u001b[32m━━━━━━━━━━━━━━━━━━━━\u001b[0m\u001b[37m\u001b[0m \u001b[1m2s\u001b[0m 85ms/step - accuracy: 0.9673 - loss: 0.0907 - val_accuracy: 0.9064 - val_loss: 0.3890\n",
      "Epoch 46/50\n",
      "\u001b[1m26/26\u001b[0m \u001b[32m━━━━━━━━━━━━━━━━━━━━\u001b[0m\u001b[37m\u001b[0m \u001b[1m2s\u001b[0m 87ms/step - accuracy: 0.9597 - loss: 0.1396 - val_accuracy: 0.9064 - val_loss: 0.3546\n",
      "Epoch 47/50\n",
      "\u001b[1m26/26\u001b[0m \u001b[32m━━━━━━━━━━━━━━━━━━━━\u001b[0m\u001b[37m\u001b[0m \u001b[1m2s\u001b[0m 85ms/step - accuracy: 0.9691 - loss: 0.0764 - val_accuracy: 0.9015 - val_loss: 0.3659\n",
      "Epoch 48/50\n",
      "\u001b[1m26/26\u001b[0m \u001b[32m━━━━━━━━━━━━━━━━━━━━\u001b[0m\u001b[37m\u001b[0m \u001b[1m2s\u001b[0m 86ms/step - accuracy: 0.9584 - loss: 0.0967 - val_accuracy: 0.8916 - val_loss: 0.4233\n",
      "Epoch 49/50\n",
      "\u001b[1m26/26\u001b[0m \u001b[32m━━━━━━━━━━━━━━━━━━━━\u001b[0m\u001b[37m\u001b[0m \u001b[1m2s\u001b[0m 78ms/step - accuracy: 0.9681 - loss: 0.1084 - val_accuracy: 0.8867 - val_loss: 0.4251\n",
      "Epoch 50/50\n",
      "\u001b[1m26/26\u001b[0m \u001b[32m━━━━━━━━━━━━━━━━━━━━\u001b[0m\u001b[37m\u001b[0m \u001b[1m2s\u001b[0m 80ms/step - accuracy: 0.9668 - loss: 0.0744 - val_accuracy: 0.9015 - val_loss: 0.3784\n"
     ]
    }
   ],
   "source": [
    "model.compile(\n",
    "    optimizer=Adam(learning_rate=0.001),\n",
    "    loss='categorical_crossentropy',\n",
    "    metrics=['accuracy']\n",
    ")\n",
    "\n",
    "history = model.fit(\n",
    "    X_train, y_train,\n",
    "    batch_size=32,\n",
    "    epochs=50,\n",
    "    validation_data=(X_test, y_test)\n",
    ")\n"
   ]
  },
  {
   "cell_type": "code",
   "execution_count": 288,
   "id": "dbcbea39",
   "metadata": {},
   "outputs": [
    {
     "name": "stdout",
     "output_type": "stream",
     "text": [
      "\u001b[1m7/7\u001b[0m \u001b[32m━━━━━━━━━━━━━━━━━━━━\u001b[0m\u001b[37m\u001b[0m \u001b[1m0s\u001b[0m 26ms/step\n",
      "              precision    recall  f1-score   support\n",
      "\n",
      "       angry       0.97      0.95      0.96        37\n",
      "        calm       0.94      0.92      0.93        37\n",
      "     fearful       0.81      0.78      0.79        37\n",
      "       happy       0.92      0.95      0.93        37\n",
      "     neutral       1.00      1.00      1.00        18\n",
      "         sad       0.82      0.86      0.84        37\n",
      "\n",
      "    accuracy                           0.90       203\n",
      "   macro avg       0.91      0.91      0.91       203\n",
      "weighted avg       0.90      0.90      0.90       203\n",
      "\n"
     ]
    },
    {
     "data": {
      "image/png": "[encoded data removed]",
      "text/plain": [
       "<Figure size 1000x800 with 2 Axes>"
      ]
     },
     "metadata": {},
     "output_type": "display_data"
    }
   ],
   "source": [
    "from sklearn.metrics import classification_report, confusion_matrix\n",
    "import seaborn as sns\n",
    "\n",
    "# Predictions\n",
    "y_pred = model.predict(X_test)\n",
    "y_test_labels = np.argmax(y_test, axis=1)\n",
    "y_pred_labels = np.argmax(y_pred, axis=1)\n",
    "\n",
    "# Print classification report\n",
    "print(classification_report(y_test_labels, y_pred_labels, target_names=le.classes_))\n",
    "\n",
    "# Confusion matrix\n",
    "cm = confusion_matrix(y_test_labels, y_pred_labels)\n",
    "plt.figure(figsize=(10, 8))\n",
    "sns.heatmap(cm, annot=True, fmt='d', xticklabels=le.classes_, yticklabels=le.classes_, cmap=\"Blues\")\n",
    "plt.title(\"Confusion Matrix\")\n",
    "plt.ylabel(\"True Label\")\n",
    "plt.xlabel(\"Predicted Label\")\n",
    "plt.show()\n"
   ]
  },
  {
   "cell_type": "code",
   "execution_count": 289,
   "id": "445b3cb9",
   "metadata": {},
   "outputs": [],
   "source": [
    "# import joblib\n",
    "# model.save('my_model.keras')\n",
    "# joblib.dump(le, \"label_encoder.pkl\")\n"
   ]
  },
  {
   "cell_type": "code",
   "execution_count": 290,
   "id": "82cee973",
   "metadata": {},
   "outputs": [],
   "source": [
    "def get_type_from_filename(filename):\n",
    "    vocal_channel = filename.split(\"-\")[2]\n",
    "    return vocal_channel"
   ]
  },
  {
   "cell_type": "code",
   "execution_count": 292,
   "id": "f53a8258",
   "metadata": {},
   "outputs": [
    {
     "name": "stderr",
     "output_type": "stream",
     "text": [
      "WARNING:absl:You are saving your model as an HDF5 file via `model.save()` or `keras.saving.save_model(model)`. This file format is considered legacy. We recommend using instead the native Keras format, e.g. `model.save('my_model.keras')` or `keras.saving.save_model(model, 'my_model.keras')`. \n"
     ]
    },
    {
     "name": "stdout",
     "output_type": "stream",
     "text": [
      "File type: 02\n"
     ]
    }
   ],
   "source": [
    "import joblib\n",
    "file_type = get_type_from_filename(df.iloc[0][\"path\"])\n",
    "print(\"File type:\", file_type)\n",
    "\n",
    "if file_type == \"01\":\n",
    "    model.save(\"model/speech_model/emotion_model_speech.h5\")\n",
    "    joblib.dump(le, \"model/speech_model/label_encoder_speech.pkl\")\n",
    "else:\n",
    "    model.save(\"model/song_model/emotion_model_song.h5\")\n",
    "    joblib.dump(le, \"model/song_model/label_encoder_song.pkl\")\n"
   ]
  }
 ],
 "metadata": {
  "kernelspec": {
   "display_name": ".venv",
   "language": "python",
   "name": "python3"
  },
  "language_info": {
   "codemirror_mode": {
    "name": "ipython",
    "version": 3
   },
   "file_extension": ".py",
   "mimetype": "text/x-python",
   "name": "python",
   "nbconvert_exporter": "python",
   "pygments_lexer": "ipython3",
   "version": "3.12.2"
  }
 },
 "nbformat": 4,
 "nbformat_minor": 5
}
