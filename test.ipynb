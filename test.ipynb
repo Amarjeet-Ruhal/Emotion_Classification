{
 "cells": [
  {
   "cell_type": "code",
   "execution_count": 57,
   "id": "8baf5b96",
   "metadata": {},
   "outputs": [],
   "source": [
    "# 1. Basic setup\n",
    "import os\n",
    "import librosa\n",
    "import numpy as np\n",
    "import pandas as pd\n",
    "import matplotlib.pyplot as plt\n",
    "from sklearn.model_selection import train_test_split\n",
    "from sklearn.preprocessing import LabelEncoder\n",
    "from tensorflow.keras.utils import to_categorical\n",
    "from tensorflow.keras.models import Sequential\n",
    "from tensorflow.keras.layers import Conv2D, MaxPooling2D, Flatten, Dense, Dropout\n",
    "from tensorflow.keras.optimizers import Adam\n",
    "from tqdm import tqdm\n",
    "import warnings\n",
    "warnings.filterwarnings(\"ignore\")"
   ]
  },
  {
   "cell_type": "code",
   "execution_count": 58,
   "id": "08802295",
   "metadata": {},
   "outputs": [
    {
     "name": "stdout",
     "output_type": "stream",
     "text": [
      "Total files loaded: 2452\n",
      "                                                path  emotion\n",
      "0  Audio_Song_Actors_01-24\\Actor_01\\03-02-01-01-0...  neutral\n",
      "1  Audio_Song_Actors_01-24\\Actor_01\\03-02-01-01-0...  neutral\n",
      "2  Audio_Song_Actors_01-24\\Actor_01\\03-02-01-01-0...  neutral\n",
      "3  Audio_Song_Actors_01-24\\Actor_01\\03-02-01-01-0...  neutral\n",
      "4  Audio_Song_Actors_01-24\\Actor_01\\03-02-02-01-0...     calm\n"
     ]
    }
   ],
   "source": [
    "def load_data_from_folders(paths):\n",
    "    emotion_map = {\n",
    "        '01': 'neutral', '02': 'calm', '03': 'happy', '04': 'sad',\n",
    "        '05': 'angry', '06': 'fearful', '07': 'disgust', '08': 'surprised'\n",
    "    }\n",
    "\n",
    "    def get_emotion(filename):\n",
    "        emotion_code = filename.split(\"-\")[2]\n",
    "        return emotion_map[emotion_code]\n",
    "\n",
    "    file_list = []\n",
    "    for path in paths:\n",
    "        for root, _, files in os.walk(path):\n",
    "            for file in files:\n",
    "                if file.endswith(\".wav\"):\n",
    "                    emotion = get_emotion(file)\n",
    "                    file_path = os.path.join(root, file)\n",
    "                    file_list.append((file_path, emotion))\n",
    "    return pd.DataFrame(file_list, columns=[\"path\", \"emotion\"])\n",
    "\n",
    "DATA_PATH_1 = \"Audio_Song_Actors_01-24\"  # <-- change to your actual path\n",
    "DATA_PATH_2 = \"Audio_Speech_Actors_01-24\"\n",
    "\n",
    "df = load_data_from_folders([DATA_PATH_1, DATA_PATH_2])\n",
    "print(\"Total files loaded:\", len(df))\n",
    "print(df.head())\n"
   ]
  },
  {
   "cell_type": "code",
   "execution_count": 70,
   "id": "d9c143bd",
   "metadata": {},
   "outputs": [
    {
     "data": {
      "text/plain": [
       "<Axes: xlabel='emotion'>"
      ]
     },
     "execution_count": 70,
     "metadata": {},
     "output_type": "execute_result"
    },
    {
     "data": {
      "image/png": "[encoded data removed]",
      "text/plain": [
       "<Figure size 640x480 with 1 Axes>"
      ]
     },
     "metadata": {},
     "output_type": "display_data"
    }
   ],
   "source": [
    "df['emotion'].value_counts().plot(kind='bar')\n"
   ]
  },
  {
   "cell_type": "code",
   "execution_count": 59,
   "id": "2af4ff7c",
   "metadata": {},
   "outputs": [],
   "source": [
    "# Path to extracted audio files\n",
    "# DATA_PATH1 = \"Audio_Song_Actors_01-24\" \n",
    "# DATA_PATH2 = \"Audio_Speech_Actors_01-24\"\n",
    "\n",
    "# # Emotion mapping from RAVDESS\n",
    "# emotion_map = {\n",
    "#     '01': 'neutral', '02': 'calm', '03': 'happy', '04': 'sad',\n",
    "#     '05': 'angry', '06': 'fearful', '07': 'disgust', '08': 'surprised'\n",
    "# }\n",
    "\n",
    "# # Function to extract emotion from filename\n",
    "# def get_emotion(filename):\n",
    "#     emotion_code = filename.split(\"-\")[2]\n",
    "#     return emotion_map[emotion_code]\n",
    "\n",
    "# # Create a dataframe of file paths and labels\n",
    "# def load_data(data_path):\n",
    "#     file_list = []\n",
    "#     for root, _, files in os.walk(data_path):\n",
    "#         for file in files:\n",
    "#             if file.endswith(\".wav\"):\n",
    "#                 emotion = get_emotion(file)\n",
    "#                 file_path = os.path.join(root, file)\n",
    "#                 file_path = os.path.normpath(file_path)  # 🔁 Normalize path\n",
    "#                 file_list.append((file_path, emotion))\n",
    "#     return pd.DataFrame(file_list, columns=[\"path\", \"emotion\"])\n",
    "\n",
    "\n",
    "# df1 = load_data(DATA_PATH1)\n",
    "# df2 = load_data(DATA_PATH2)\n",
    "# df = pd.concat([df1, df2], ignore_index=True)\n",
    "# print(df.tail())\n"
   ]
  },
  {
   "cell_type": "code",
   "execution_count": 60,
   "id": "5eb286c3",
   "metadata": {},
   "outputs": [
    {
     "name": "stdout",
     "output_type": "stream",
     "text": [
      "Trying: Audio_Song_Actors_01-24\\Actor_01\\03-02-01-01-01-01-01.wav\n",
      "Duration (s): 4.237583333333333\n"
     ]
    }
   ],
   "source": [
    "import librosa\n",
    "\n",
    "test_path = df.iloc[0][\"path\"]\n",
    "print(\"Trying:\", test_path)\n",
    "\n",
    "# Try loading\n",
    "audio, sr = librosa.load(test_path, sr=None)\n",
    "print(\"Duration (s):\", len(audio) / sr)\n"
   ]
  },
  {
   "cell_type": "code",
   "execution_count": 61,
   "id": "139007ef",
   "metadata": {},
   "outputs": [
    {
     "name": "stdout",
     "output_type": "stream",
     "text": [
      "Audio shape: (203404,)\n",
      "Sample rate: 48000\n"
     ]
    }
   ],
   "source": [
    "import librosa\n",
    "\n",
    "test_path = df.iloc[0][\"path\"]\n",
    "test_path = os.path.normpath(test_path)  # normalize path in case of backslashes\n",
    "\n",
    "try:\n",
    "    audio, sr = librosa.load(test_path, sr=None)\n",
    "    print(\"Audio shape:\", audio.shape)\n",
    "    print(\"Sample rate:\", sr)\n",
    "except Exception as e:\n",
    "    print(\"Librosa failed:\", e)\n"
   ]
  },
  {
   "cell_type": "code",
   "execution_count": 62,
   "id": "49ce389b",
   "metadata": {},
   "outputs": [],
   "source": [
    "def extract_features(file_path, max_pad_len=174):\n",
    "    try:\n",
    "        audio, sample_rate = librosa.load(file_path, sr=22050)  # Resample\n",
    "        mfcc = librosa.feature.mfcc(y=audio, sr=sample_rate, n_mfcc=40)\n",
    "        \n",
    "        # Padding or truncating\n",
    "        if mfcc.shape[1] < max_pad_len:\n",
    "            pad_width = max_pad_len - mfcc.shape[1]\n",
    "            mfcc = np.pad(mfcc, pad_width=((0, 0), (0, pad_width)), mode='constant')\n",
    "        else:\n",
    "            mfcc = mfcc[:, :max_pad_len]\n",
    "        \n",
    "        return mfcc\n",
    "    except Exception as e:\n",
    "        print(f\"[ERROR] {file_path} => {e}\")\n",
    "        return None\n",
    "\n"
   ]
  },
  {
   "cell_type": "code",
   "execution_count": 63,
   "id": "2962a59c",
   "metadata": {},
   "outputs": [
    {
     "name": "stderr",
     "output_type": "stream",
     "text": [
      "100%|██████████| 2452/2452 [00:33<00:00, 72.15it/s]"
     ]
    },
    {
     "name": "stdout",
     "output_type": "stream",
     "text": [
      "✅ Shape of X: (2452, 40, 174, 1)\n",
      "🎯 Sample label: neutral\n"
     ]
    },
    {
     "name": "stderr",
     "output_type": "stream",
     "text": [
      "\n"
     ]
    }
   ],
   "source": [
    "X = []\n",
    "y = []\n",
    "\n",
    "for index, row in tqdm(df.iterrows(), total=len(df)):\n",
    "    features = extract_features(row[\"path\"])\n",
    "    if features is not None:\n",
    "        X.append(features)\n",
    "        y.append(row[\"emotion\"])\n",
    "\n",
    "X = np.array(X)\n",
    "X = X[..., np.newaxis]\n",
    "print(\"✅ Shape of X:\", X.shape)\n",
    "print(\"🎯 Sample label:\", y[0])\n",
    "\n",
    "\n"
   ]
  },
  {
   "cell_type": "code",
   "execution_count": 64,
   "id": "a8d4f092",
   "metadata": {},
   "outputs": [
    {
     "name": "stdout",
     "output_type": "stream",
     "text": [
      "Encoded labels: (2452, 8)\n"
     ]
    }
   ],
   "source": [
    "le = LabelEncoder()\n",
    "y_encoded = to_categorical(le.fit_transform(y))\n",
    "print(\"Encoded labels:\", y_encoded.shape)\n"
   ]
  },
  {
   "cell_type": "code",
   "execution_count": 65,
   "id": "b75033f1",
   "metadata": {},
   "outputs": [],
   "source": [
    "X_train, X_test, y_train, y_test = train_test_split(\n",
    "    X, y_encoded, test_size=0.2, random_state=42, stratify=y_encoded)\n"
   ]
  },
  {
   "cell_type": "code",
   "execution_count": 66,
   "id": "4ed674b1",
   "metadata": {},
   "outputs": [],
   "source": [
    "from tensorflow.keras.models import Sequential\n",
    "from tensorflow.keras.layers import Conv2D, MaxPooling2D, Dropout, Flatten, Dense\n",
    "\n",
    "model = Sequential()\n",
    "\n",
    "# Conv Layer 1\n",
    "model.add(Conv2D(32, kernel_size=(3, 3), activation='relu', input_shape=(40, 174, 1)))\n",
    "model.add(MaxPooling2D(pool_size=(2, 2)))\n",
    "model.add(Dropout(0.3))\n",
    "\n",
    "# Conv Layer 2\n",
    "model.add(Conv2D(64, kernel_size=(3, 3), activation='relu'))\n",
    "model.add(MaxPooling2D(pool_size=(2, 2)))\n",
    "model.add(Dropout(0.3))\n",
    "\n",
    "# Flatten and Dense\n",
    "model.add(Flatten())\n",
    "model.add(Dense(128, activation='relu'))\n",
    "model.add(Dropout(0.3))\n",
    "model.add(Dense(y_encoded.shape[1], activation='softmax'))  # num_classes output\n"
   ]
  },
  {
   "cell_type": "code",
   "execution_count": 67,
   "id": "2f7c6c4e",
   "metadata": {},
   "outputs": [
    {
     "name": "stdout",
     "output_type": "stream",
     "text": [
      "Epoch 1/50\n",
      "\u001b[1m62/62\u001b[0m \u001b[32m━━━━━━━━━━━━━━━━━━━━\u001b[0m\u001b[37m\u001b[0m \u001b[1m7s\u001b[0m 93ms/step - accuracy: 0.1488 - loss: 25.4054 - val_accuracy: 0.1711 - val_loss: 2.0650\n",
      "Epoch 2/50\n",
      "\u001b[1m62/62\u001b[0m \u001b[32m━━━━━━━━━━━━━━━━━━━━\u001b[0m\u001b[37m\u001b[0m \u001b[1m5s\u001b[0m 74ms/step - accuracy: 0.1686 - loss: 2.0160 - val_accuracy: 0.2261 - val_loss: 1.8616\n",
      "Epoch 3/50\n",
      "\u001b[1m62/62\u001b[0m \u001b[32m━━━━━━━━━━━━━━━━━━━━\u001b[0m\u001b[37m\u001b[0m \u001b[1m5s\u001b[0m 74ms/step - accuracy: 0.2512 - loss: 1.8918 - val_accuracy: 0.2668 - val_loss: 1.8311\n",
      "Epoch 4/50\n",
      "\u001b[1m62/62\u001b[0m \u001b[32m━━━━━━━━━━━━━━━━━━━━\u001b[0m\u001b[37m\u001b[0m \u001b[1m5s\u001b[0m 72ms/step - accuracy: 0.3013 - loss: 1.7504 - val_accuracy: 0.3299 - val_loss: 1.6940\n",
      "Epoch 5/50\n",
      "\u001b[1m62/62\u001b[0m \u001b[32m━━━━━━━━━━━━━━━━━━━━\u001b[0m\u001b[37m\u001b[0m \u001b[1m5s\u001b[0m 73ms/step - accuracy: 0.3586 - loss: 1.6627 - val_accuracy: 0.4033 - val_loss: 1.5847\n",
      "Epoch 6/50\n",
      "\u001b[1m62/62\u001b[0m \u001b[32m━━━━━━━━━━━━━━━━━━━━\u001b[0m\u001b[37m\u001b[0m \u001b[1m5s\u001b[0m 74ms/step - accuracy: 0.3919 - loss: 1.5814 - val_accuracy: 0.4012 - val_loss: 1.4698\n",
      "Epoch 7/50\n",
      "\u001b[1m62/62\u001b[0m \u001b[32m━━━━━━━━━━━━━━━━━━━━\u001b[0m\u001b[37m\u001b[0m \u001b[1m5s\u001b[0m 72ms/step - accuracy: 0.4143 - loss: 1.4761 - val_accuracy: 0.4297 - val_loss: 1.4145\n",
      "Epoch 8/50\n",
      "\u001b[1m62/62\u001b[0m \u001b[32m━━━━━━━━━━━━━━━━━━━━\u001b[0m\u001b[37m\u001b[0m \u001b[1m5s\u001b[0m 80ms/step - accuracy: 0.4678 - loss: 1.3660 - val_accuracy: 0.4868 - val_loss: 1.3285\n",
      "Epoch 9/50\n",
      "\u001b[1m62/62\u001b[0m \u001b[32m━━━━━━━━━━━━━━━━━━━━\u001b[0m\u001b[37m\u001b[0m \u001b[1m5s\u001b[0m 77ms/step - accuracy: 0.4965 - loss: 1.3144 - val_accuracy: 0.5173 - val_loss: 1.2336\n",
      "Epoch 10/50\n",
      "\u001b[1m62/62\u001b[0m \u001b[32m━━━━━━━━━━━━━━━━━━━━\u001b[0m\u001b[37m\u001b[0m \u001b[1m5s\u001b[0m 79ms/step - accuracy: 0.5125 - loss: 1.2435 - val_accuracy: 0.5316 - val_loss: 1.2129\n",
      "Epoch 11/50\n",
      "\u001b[1m62/62\u001b[0m \u001b[32m━━━━━━━━━━━━━━━━━━━━\u001b[0m\u001b[37m\u001b[0m \u001b[1m5s\u001b[0m 80ms/step - accuracy: 0.5414 - loss: 1.1790 - val_accuracy: 0.5336 - val_loss: 1.2254\n",
      "Epoch 12/50\n",
      "\u001b[1m62/62\u001b[0m \u001b[32m━━━━━━━━━━━━━━━━━━━━\u001b[0m\u001b[37m\u001b[0m \u001b[1m5s\u001b[0m 77ms/step - accuracy: 0.5526 - loss: 1.1115 - val_accuracy: 0.5438 - val_loss: 1.2131\n",
      "Epoch 13/50\n",
      "\u001b[1m62/62\u001b[0m \u001b[32m━━━━━━━━━━━━━━━━━━━━\u001b[0m\u001b[37m\u001b[0m \u001b[1m5s\u001b[0m 78ms/step - accuracy: 0.5771 - loss: 1.1258 - val_accuracy: 0.5906 - val_loss: 1.1024\n",
      "Epoch 14/50\n",
      "\u001b[1m62/62\u001b[0m \u001b[32m━━━━━━━━━━━━━━━━━━━━\u001b[0m\u001b[37m\u001b[0m \u001b[1m5s\u001b[0m 78ms/step - accuracy: 0.6283 - loss: 1.0191 - val_accuracy: 0.6212 - val_loss: 1.0767\n",
      "Epoch 15/50\n",
      "\u001b[1m62/62\u001b[0m \u001b[32m━━━━━━━━━━━━━━━━━━━━\u001b[0m\u001b[37m\u001b[0m \u001b[1m5s\u001b[0m 81ms/step - accuracy: 0.6308 - loss: 0.9670 - val_accuracy: 0.5784 - val_loss: 1.1211\n",
      "Epoch 16/50\n",
      "\u001b[1m62/62\u001b[0m \u001b[32m━━━━━━━━━━━━━━━━━━━━\u001b[0m\u001b[37m\u001b[0m \u001b[1m5s\u001b[0m 81ms/step - accuracy: 0.6497 - loss: 0.9163 - val_accuracy: 0.6191 - val_loss: 1.0480\n",
      "Epoch 17/50\n",
      "\u001b[1m62/62\u001b[0m \u001b[32m━━━━━━━━━━━━━━━━━━━━\u001b[0m\u001b[37m\u001b[0m \u001b[1m5s\u001b[0m 80ms/step - accuracy: 0.6758 - loss: 0.8251 - val_accuracy: 0.6191 - val_loss: 1.0305\n",
      "Epoch 18/50\n",
      "\u001b[1m62/62\u001b[0m \u001b[32m━━━━━━━━━━━━━━━━━━━━\u001b[0m\u001b[37m\u001b[0m \u001b[1m5s\u001b[0m 78ms/step - accuracy: 0.6810 - loss: 0.8302 - val_accuracy: 0.6232 - val_loss: 1.0547\n",
      "Epoch 19/50\n",
      "\u001b[1m62/62\u001b[0m \u001b[32m━━━━━━━━━━━━━━━━━━━━\u001b[0m\u001b[37m\u001b[0m \u001b[1m5s\u001b[0m 83ms/step - accuracy: 0.7044 - loss: 0.7635 - val_accuracy: 0.6578 - val_loss: 1.0412\n",
      "Epoch 20/50\n",
      "\u001b[1m62/62\u001b[0m \u001b[32m━━━━━━━━━━━━━━━━━━━━\u001b[0m\u001b[37m\u001b[0m \u001b[1m6s\u001b[0m 88ms/step - accuracy: 0.7185 - loss: 0.7590 - val_accuracy: 0.6517 - val_loss: 0.9794\n",
      "Epoch 21/50\n",
      "\u001b[1m62/62\u001b[0m \u001b[32m━━━━━━━━━━━━━━━━━━━━\u001b[0m\u001b[37m\u001b[0m \u001b[1m6s\u001b[0m 90ms/step - accuracy: 0.7329 - loss: 0.6675 - val_accuracy: 0.6762 - val_loss: 0.9655\n",
      "Epoch 22/50\n",
      "\u001b[1m62/62\u001b[0m \u001b[32m━━━━━━━━━━━━━━━━━━━━\u001b[0m\u001b[37m\u001b[0m \u001b[1m6s\u001b[0m 92ms/step - accuracy: 0.7453 - loss: 0.6850 - val_accuracy: 0.6721 - val_loss: 0.9372\n",
      "Epoch 23/50\n",
      "\u001b[1m62/62\u001b[0m \u001b[32m━━━━━━━━━━━━━━━━━━━━\u001b[0m\u001b[37m\u001b[0m \u001b[1m5s\u001b[0m 82ms/step - accuracy: 0.7439 - loss: 0.6360 - val_accuracy: 0.6314 - val_loss: 1.0820\n",
      "Epoch 24/50\n",
      "\u001b[1m62/62\u001b[0m \u001b[32m━━━━━━━━━━━━━━━━━━━━\u001b[0m\u001b[37m\u001b[0m \u001b[1m5s\u001b[0m 85ms/step - accuracy: 0.7594 - loss: 0.6306 - val_accuracy: 0.6986 - val_loss: 0.9275\n",
      "Epoch 25/50\n",
      "\u001b[1m62/62\u001b[0m \u001b[32m━━━━━━━━━━━━━━━━━━━━\u001b[0m\u001b[37m\u001b[0m \u001b[1m5s\u001b[0m 81ms/step - accuracy: 0.8061 - loss: 0.5295 - val_accuracy: 0.6802 - val_loss: 0.8930\n",
      "Epoch 26/50\n",
      "\u001b[1m62/62\u001b[0m \u001b[32m━━━━━━━━━━━━━━━━━━━━\u001b[0m\u001b[37m\u001b[0m \u001b[1m5s\u001b[0m 81ms/step - accuracy: 0.7878 - loss: 0.5836 - val_accuracy: 0.7006 - val_loss: 0.8924\n",
      "Epoch 27/50\n",
      "\u001b[1m62/62\u001b[0m \u001b[32m━━━━━━━━━━━━━━━━━━━━\u001b[0m\u001b[37m\u001b[0m \u001b[1m5s\u001b[0m 86ms/step - accuracy: 0.8276 - loss: 0.4444 - val_accuracy: 0.6945 - val_loss: 0.9336\n",
      "Epoch 28/50\n",
      "\u001b[1m62/62\u001b[0m \u001b[32m━━━━━━━━━━━━━━━━━━━━\u001b[0m\u001b[37m\u001b[0m \u001b[1m5s\u001b[0m 84ms/step - accuracy: 0.8214 - loss: 0.5143 - val_accuracy: 0.6721 - val_loss: 0.9579\n",
      "Epoch 29/50\n",
      "\u001b[1m62/62\u001b[0m \u001b[32m━━━━━━━━━━━━━━━━━━━━\u001b[0m\u001b[37m\u001b[0m \u001b[1m5s\u001b[0m 80ms/step - accuracy: 0.8218 - loss: 0.4634 - val_accuracy: 0.6843 - val_loss: 0.9487\n",
      "Epoch 30/50\n",
      "\u001b[1m62/62\u001b[0m \u001b[32m━━━━━━━━━━━━━━━━━━━━\u001b[0m\u001b[37m\u001b[0m \u001b[1m5s\u001b[0m 80ms/step - accuracy: 0.8398 - loss: 0.4141 - val_accuracy: 0.7026 - val_loss: 0.9691\n",
      "Epoch 31/50\n",
      "\u001b[1m62/62\u001b[0m \u001b[32m━━━━━━━━━━━━━━━━━━━━\u001b[0m\u001b[37m\u001b[0m \u001b[1m5s\u001b[0m 78ms/step - accuracy: 0.8552 - loss: 0.4002 - val_accuracy: 0.6965 - val_loss: 0.9094\n",
      "Epoch 32/50\n",
      "\u001b[1m62/62\u001b[0m \u001b[32m━━━━━━━━━━━━━━━━━━━━\u001b[0m\u001b[37m\u001b[0m \u001b[1m5s\u001b[0m 78ms/step - accuracy: 0.8523 - loss: 0.3698 - val_accuracy: 0.6864 - val_loss: 0.9262\n",
      "Epoch 33/50\n",
      "\u001b[1m62/62\u001b[0m \u001b[32m━━━━━━━━━━━━━━━━━━━━\u001b[0m\u001b[37m\u001b[0m \u001b[1m5s\u001b[0m 77ms/step - accuracy: 0.8604 - loss: 0.3909 - val_accuracy: 0.6965 - val_loss: 0.9518\n",
      "Epoch 34/50\n",
      "\u001b[1m62/62\u001b[0m \u001b[32m━━━━━━━━━━━━━━━━━━━━\u001b[0m\u001b[37m\u001b[0m \u001b[1m5s\u001b[0m 84ms/step - accuracy: 0.8713 - loss: 0.3380 - val_accuracy: 0.6986 - val_loss: 0.9700\n",
      "Epoch 35/50\n",
      "\u001b[1m62/62\u001b[0m \u001b[32m━━━━━━━━━━━━━━━━━━━━\u001b[0m\u001b[37m\u001b[0m \u001b[1m5s\u001b[0m 79ms/step - accuracy: 0.8580 - loss: 0.3640 - val_accuracy: 0.7210 - val_loss: 0.9845\n",
      "Epoch 36/50\n",
      "\u001b[1m62/62\u001b[0m \u001b[32m━━━━━━━━━━━━━━━━━━━━\u001b[0m\u001b[37m\u001b[0m \u001b[1m5s\u001b[0m 78ms/step - accuracy: 0.8512 - loss: 0.3685 - val_accuracy: 0.7108 - val_loss: 0.9474\n",
      "Epoch 37/50\n",
      "\u001b[1m62/62\u001b[0m \u001b[32m━━━━━━━━━━━━━━━━━━━━\u001b[0m\u001b[37m\u001b[0m \u001b[1m5s\u001b[0m 78ms/step - accuracy: 0.8696 - loss: 0.3417 - val_accuracy: 0.7149 - val_loss: 0.9725\n",
      "Epoch 38/50\n",
      "\u001b[1m62/62\u001b[0m \u001b[32m━━━━━━━━━━━━━━━━━━━━\u001b[0m\u001b[37m\u001b[0m \u001b[1m5s\u001b[0m 78ms/step - accuracy: 0.8964 - loss: 0.2960 - val_accuracy: 0.6904 - val_loss: 0.9799\n",
      "Epoch 39/50\n",
      "\u001b[1m62/62\u001b[0m \u001b[32m━━━━━━━━━━━━━━━━━━━━\u001b[0m\u001b[37m\u001b[0m \u001b[1m5s\u001b[0m 76ms/step - accuracy: 0.9021 - loss: 0.2763 - val_accuracy: 0.6843 - val_loss: 0.9744\n",
      "Epoch 40/50\n",
      "\u001b[1m62/62\u001b[0m \u001b[32m━━━━━━━━━━━━━━━━━━━━\u001b[0m\u001b[37m\u001b[0m \u001b[1m5s\u001b[0m 78ms/step - accuracy: 0.8844 - loss: 0.3175 - val_accuracy: 0.7026 - val_loss: 1.0041\n",
      "Epoch 41/50\n",
      "\u001b[1m62/62\u001b[0m \u001b[32m━━━━━━━━━━━━━━━━━━━━\u001b[0m\u001b[37m\u001b[0m \u001b[1m5s\u001b[0m 80ms/step - accuracy: 0.8885 - loss: 0.2917 - val_accuracy: 0.7169 - val_loss: 0.9351\n",
      "Epoch 42/50\n",
      "\u001b[1m62/62\u001b[0m \u001b[32m━━━━━━━━━━━━━━━━━━━━\u001b[0m\u001b[37m\u001b[0m \u001b[1m5s\u001b[0m 77ms/step - accuracy: 0.8811 - loss: 0.2835 - val_accuracy: 0.7210 - val_loss: 0.9647\n",
      "Epoch 43/50\n",
      "\u001b[1m62/62\u001b[0m \u001b[32m━━━━━━━━━━━━━━━━━━━━\u001b[0m\u001b[37m\u001b[0m \u001b[1m5s\u001b[0m 77ms/step - accuracy: 0.9046 - loss: 0.2537 - val_accuracy: 0.7230 - val_loss: 1.0135\n",
      "Epoch 44/50\n",
      "\u001b[1m62/62\u001b[0m \u001b[32m━━━━━━━━━━━━━━━━━━━━\u001b[0m\u001b[37m\u001b[0m \u001b[1m5s\u001b[0m 77ms/step - accuracy: 0.8893 - loss: 0.2925 - val_accuracy: 0.6965 - val_loss: 1.0231\n",
      "Epoch 45/50\n",
      "\u001b[1m62/62\u001b[0m \u001b[32m━━━━━━━━━━━━━━━━━━━━\u001b[0m\u001b[37m\u001b[0m \u001b[1m5s\u001b[0m 78ms/step - accuracy: 0.8971 - loss: 0.2727 - val_accuracy: 0.6925 - val_loss: 1.0152\n",
      "Epoch 46/50\n",
      "\u001b[1m62/62\u001b[0m \u001b[32m━━━━━━━━━━━━━━━━━━━━\u001b[0m\u001b[37m\u001b[0m \u001b[1m5s\u001b[0m 82ms/step - accuracy: 0.8991 - loss: 0.2645 - val_accuracy: 0.7067 - val_loss: 1.0802\n",
      "Epoch 47/50\n",
      "\u001b[1m62/62\u001b[0m \u001b[32m━━━━━━━━━━━━━━━━━━━━\u001b[0m\u001b[37m\u001b[0m \u001b[1m5s\u001b[0m 73ms/step - accuracy: 0.8849 - loss: 0.2894 - val_accuracy: 0.7088 - val_loss: 1.0582\n",
      "Epoch 48/50\n",
      "\u001b[1m62/62\u001b[0m \u001b[32m━━━━━━━━━━━━━━━━━━━━\u001b[0m\u001b[37m\u001b[0m \u001b[1m5s\u001b[0m 74ms/step - accuracy: 0.9153 - loss: 0.2560 - val_accuracy: 0.7006 - val_loss: 1.0560\n",
      "Epoch 49/50\n",
      "\u001b[1m62/62\u001b[0m \u001b[32m━━━━━━━━━━━━━━━━━━━━\u001b[0m\u001b[37m\u001b[0m \u001b[1m5s\u001b[0m 72ms/step - accuracy: 0.9013 - loss: 0.2970 - val_accuracy: 0.6904 - val_loss: 1.0336\n",
      "Epoch 50/50\n",
      "\u001b[1m62/62\u001b[0m \u001b[32m━━━━━━━━━━━━━━━━━━━━\u001b[0m\u001b[37m\u001b[0m \u001b[1m5s\u001b[0m 72ms/step - accuracy: 0.9056 - loss: 0.2575 - val_accuracy: 0.7189 - val_loss: 0.9191\n"
     ]
    }
   ],
   "source": [
    "model.compile(\n",
    "    optimizer=Adam(learning_rate=0.001),\n",
    "    loss='categorical_crossentropy',\n",
    "    metrics=['accuracy']\n",
    ")\n",
    "\n",
    "history = model.fit(\n",
    "    X_train, y_train,\n",
    "    batch_size=32,\n",
    "    epochs=50,\n",
    "    validation_data=(X_test, y_test)\n",
    ")\n"
   ]
  },
  {
   "cell_type": "code",
   "execution_count": 68,
   "id": "dbcbea39",
   "metadata": {},
   "outputs": [
    {
     "name": "stdout",
     "output_type": "stream",
     "text": [
      "\u001b[1m16/16\u001b[0m \u001b[32m━━━━━━━━━━━━━━━━━━━━\u001b[0m\u001b[37m\u001b[0m \u001b[1m0s\u001b[0m 20ms/step\n",
      "              precision    recall  f1-score   support\n",
      "\n",
      "       angry       0.79      0.85      0.82        75\n",
      "        calm       0.73      0.84      0.78        75\n",
      "     disgust       0.70      0.54      0.61        39\n",
      "     fearful       0.69      0.71      0.70        75\n",
      "       happy       0.68      0.65      0.67        75\n",
      "     neutral       0.77      0.63      0.70        38\n",
      "         sad       0.64      0.63      0.64        75\n",
      "   surprised       0.78      0.82      0.80        39\n",
      "\n",
      "    accuracy                           0.72       491\n",
      "   macro avg       0.72      0.71      0.71       491\n",
      "weighted avg       0.72      0.72      0.72       491\n",
      "\n"
     ]
    },
    {
     "data": {
      "image/png": "[encoded data removed]",
      "text/plain": [
       "<Figure size 1000x800 with 2 Axes>"
      ]
     },
     "metadata": {},
     "output_type": "display_data"
    }
   ],
   "source": [
    "from sklearn.metrics import classification_report, confusion_matrix\n",
    "import seaborn as sns\n",
    "\n",
    "# Predictions\n",
    "y_pred = model.predict(X_test)\n",
    "y_test_labels = np.argmax(y_test, axis=1)\n",
    "y_pred_labels = np.argmax(y_pred, axis=1)\n",
    "\n",
    "# Print classification report\n",
    "print(classification_report(y_test_labels, y_pred_labels, target_names=le.classes_))\n",
    "\n",
    "# Confusion matrix\n",
    "cm = confusion_matrix(y_test_labels, y_pred_labels)\n",
    "plt.figure(figsize=(10, 8))\n",
    "sns.heatmap(cm, annot=True, fmt='d', xticklabels=le.classes_, yticklabels=le.classes_, cmap=\"Blues\")\n",
    "plt.title(\"Confusion Matrix\")\n",
    "plt.ylabel(\"True Label\")\n",
    "plt.xlabel(\"Predicted Label\")\n",
    "plt.show()\n"
   ]
  },
  {
   "cell_type": "code",
   "execution_count": 71,
   "id": "445b3cb9",
   "metadata": {},
   "outputs": [
    {
     "data": {
      "text/plain": [
       "['label_encoder.pkl']"
      ]
     },
     "execution_count": 71,
     "metadata": {},
     "output_type": "execute_result"
    }
   ],
   "source": [
    "import joblib\n",
    "model.save('my_model.keras')\n",
    "joblib.dump(le, \"label_encoder.pkl\")\n"
   ]
  },
  {
   "cell_type": "code",
   "execution_count": null,
   "id": "f53a8258",
   "metadata": {},
   "outputs": [],
   "source": []
  }
 ],
 "metadata": {
  "kernelspec": {
   "display_name": ".venv",
   "language": "python",
   "name": "python3"
  },
  "language_info": {
   "codemirror_mode": {
    "name": "ipython",
    "version": 3
   },
   "file_extension": ".py",
   "mimetype": "text/x-python",
   "name": "python",
   "nbconvert_exporter": "python",
   "pygments_lexer": "ipython3",
   "version": "3.12.2"
  }
 },
 "nbformat": 4,
 "nbformat_minor": 5
}
